{
 "cells": [
  {
   "cell_type": "code",
   "execution_count": 71,
   "id": "1fffac6c",
   "metadata": {},
   "outputs": [],
   "source": [
    "import numpy as np\n",
    "import tensorflow as tf\n",
    "from keras.datasets import mnist\n",
    "from keras.models import Sequential\n",
    "from keras.layers import Dense\n",
    "from keras.layers import Dropout\n",
    "from keras.layers import Flatten\n",
    "from keras import activations\n",
    "from keras.layers.convolutional import Convolution2D\n",
    "from keras.layers.convolutional import MaxPooling2D\n",
    "from keras.utils import np_utils\n",
    "from keras import backend as K"
   ]
  },
  {
   "cell_type": "code",
   "execution_count": 72,
   "id": "1bbf81b2",
   "metadata": {},
   "outputs": [],
   "source": [
    "# fix random seed for reproducibility\n",
    "seed = 7\n",
    "numpy.random.seed(seed)"
   ]
  },
  {
   "cell_type": "code",
   "execution_count": 73,
   "id": "7718a6e8",
   "metadata": {},
   "outputs": [
    {
     "data": {
      "text/plain": [
       "(60000, 28, 28)"
      ]
     },
     "execution_count": 73,
     "metadata": {},
     "output_type": "execute_result"
    }
   ],
   "source": [
    "# load data\n",
    "(X_train, y_train), (X_test, y_test) = mnist.load_data()\n",
    "X_train.shape"
   ]
  },
  {
   "cell_type": "code",
   "execution_count": 74,
   "id": "c5c30464",
   "metadata": {},
   "outputs": [],
   "source": [
    "# reshape to be [samples][channels][width][height]\n",
    "X_train = X_train.reshape(X_train.shape[0], 28, 28, 1).astype(np.float32 )\n",
    "X_test = X_test.reshape(X_test.shape[0], 28, 28, 1).astype(np.float32 )\n",
    "\n",
    "# normalize inputs from 0-255 to 0-1\n",
    "X_train = X_train / 255\n",
    "X_test = X_test / 255"
   ]
  },
  {
   "cell_type": "code",
   "execution_count": 75,
   "id": "8a16dba1",
   "metadata": {},
   "outputs": [],
   "source": [
    "# one hot encode outputs\n",
    "y_train = np_utils.to_categorical(y_train)\n",
    "y_test = np_utils.to_categorical(y_test)\n",
    "num_classes = y_test.shape[1]"
   ]
  },
  {
   "cell_type": "code",
   "execution_count": 76,
   "id": "4c3d8dcf",
   "metadata": {},
   "outputs": [],
   "source": [
    "# define a simple CNN model\n",
    "def baseline_model():\n",
    "    # create model\n",
    "    model = Sequential()\n",
    "    # 32 maps with filter size size 3X3\n",
    "    model.add(Convolution2D(32, (3,3), input_shape=(28, 28, 1), activation='relu'))\n",
    "    model.add(MaxPooling2D(pool_size=(2, 2)))\n",
    "    model.add(Dropout(0.2))\n",
    "    model.add(Flatten())\n",
    "    model.add(Dense(128, activation='relu'))\n",
    "    model.add(Dense(num_classes, activation='softmax'))\n",
    "    return model\n",
    "\n",
    "# build the model\n",
    "model = baseline_model()\n",
    "# Compile model\n",
    "model.compile(loss='categorical_crossentropy', optimizer='adam', metrics=[ 'accuracy' ])"
   ]
  },
  {
   "cell_type": "code",
   "execution_count": 78,
   "id": "23139297",
   "metadata": {},
   "outputs": [
    {
     "name": "stdout",
     "output_type": "stream",
     "text": [
      "Epoch 1/10\n",
      "300/300 - 13s - loss: 0.2745 - accuracy: 0.9212 - val_loss: 0.0985 - val_accuracy: 0.9716 - 13s/epoch - 45ms/step\n",
      "Epoch 2/10\n",
      "300/300 - 13s - loss: 0.0872 - accuracy: 0.9746 - val_loss: 0.0664 - val_accuracy: 0.9802 - 13s/epoch - 44ms/step\n",
      "Epoch 3/10\n",
      "300/300 - 13s - loss: 0.0610 - accuracy: 0.9816 - val_loss: 0.0495 - val_accuracy: 0.9831 - 13s/epoch - 44ms/step\n",
      "Epoch 4/10\n",
      "300/300 - 14s - loss: 0.0471 - accuracy: 0.9855 - val_loss: 0.0461 - val_accuracy: 0.9847 - 14s/epoch - 46ms/step\n",
      "Epoch 5/10\n",
      "300/300 - 14s - loss: 0.0377 - accuracy: 0.9882 - val_loss: 0.0405 - val_accuracy: 0.9858 - 14s/epoch - 47ms/step\n",
      "Epoch 6/10\n",
      "300/300 - 13s - loss: 0.0333 - accuracy: 0.9894 - val_loss: 0.0492 - val_accuracy: 0.9847 - 13s/epoch - 44ms/step\n",
      "Epoch 7/10\n",
      "300/300 - 16s - loss: 0.0267 - accuracy: 0.9916 - val_loss: 0.0409 - val_accuracy: 0.9865 - 16s/epoch - 53ms/step\n",
      "Epoch 8/10\n",
      "300/300 - 15s - loss: 0.0228 - accuracy: 0.9929 - val_loss: 0.0383 - val_accuracy: 0.9871 - 15s/epoch - 48ms/step\n",
      "Epoch 9/10\n",
      "300/300 - 14s - loss: 0.0185 - accuracy: 0.9940 - val_loss: 0.0397 - val_accuracy: 0.9874 - 14s/epoch - 47ms/step\n",
      "Epoch 10/10\n",
      "300/300 - 14s - loss: 0.0179 - accuracy: 0.9943 - val_loss: 0.0438 - val_accuracy: 0.9860 - 14s/epoch - 48ms/step\n"
     ]
    },
    {
     "data": {
      "text/plain": [
       "<keras.callbacks.History at 0x1a81fb30a60>"
      ]
     },
     "execution_count": 78,
     "metadata": {},
     "output_type": "execute_result"
    }
   ],
   "source": [
    "# Fit the model\n",
    "model.fit(X_train, y_train, validation_data=(X_test, y_test), epochs=10, batch_size=200, verbose=2)"
   ]
  },
  {
   "cell_type": "code",
   "execution_count": null,
   "id": "cd92395b",
   "metadata": {},
   "outputs": [],
   "source": [
    "# Final evaluation of the model\n",
    "scores = model.evaluate(X_test, y_test, verbose=0)\n",
    "print(\"CNN Error: %.2f%%\" % (100-scores[1]*100))"
   ]
  }
 ],
 "metadata": {
  "kernelspec": {
   "display_name": "Python 3 (ipykernel)",
   "language": "python",
   "name": "python3"
  },
  "language_info": {
   "codemirror_mode": {
    "name": "ipython",
    "version": 3
   },
   "file_extension": ".py",
   "mimetype": "text/x-python",
   "name": "python",
   "nbconvert_exporter": "python",
   "pygments_lexer": "ipython3",
   "version": "3.9.7"
  }
 },
 "nbformat": 4,
 "nbformat_minor": 5
}
