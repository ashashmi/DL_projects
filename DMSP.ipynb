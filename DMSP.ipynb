{
 "cells": [
  {
   "cell_type": "code",
   "execution_count": null,
   "id": "94c58352",
   "metadata": {},
   "outputs": [],
   "source": [
    "import pandas as pd\n",
    "data = pd.read_csv('DMSP_data.csv')\n",
    "data.shape"
   ]
  },
  {
   "cell_type": "code",
   "execution_count": null,
   "id": "c451edbe",
   "metadata": {},
   "outputs": [],
   "source": [
    "data.info(verbose=True)"
   ]
  },
  {
   "cell_type": "code",
   "execution_count": null,
   "id": "341ae312",
   "metadata": {},
   "outputs": [],
   "source": [
    "# Creating new features from the Datetimes column\n",
    "data['year'] = data['Datetimes'].apply(lambda x: float(x.split()[0].split('-')[0]))\n",
    "data['month'] = data['Datetimes'].apply(lambda x: float(x.split()[0].split('-')[1]))\n",
    "data['day'] = data['Datetimes'].apply(lambda x: float(x.split()[0].split('-')[2]))\n",
    "data['hour'] = data['Datetimes'].apply(lambda x: float(x.split()[1].split(':')[0]))\n",
    "data['minute'] = data['Datetimes'].apply(lambda x: float(x.split()[1].split(':')[1]))\n",
    "data['second'] = data['Datetimes'].apply(lambda x: float(x.split()[1].split(':')[2]))\n",
    "\n",
    "# Dropping the 'Datetimes' column\n",
    "data.drop(['Datetimes'], axis = 1, inplace = True)"
   ]
  },
  {
   "cell_type": "code",
   "execution_count": null,
   "id": "d02ca2c8",
   "metadata": {},
   "outputs": [],
   "source": [
    "data[['year', 'month', 'day', 'hour', 'minute', 'second']].describe()"
   ]
  },
  {
   "cell_type": "code",
   "execution_count": null,
   "id": "1b81d5fc",
   "metadata": {},
   "outputs": [],
   "source": [
    "# Dropping the constant 'second' column\n",
    "data.drop(['second'], axis = 1, inplace = True)"
   ]
  },
  {
   "cell_type": "code",
   "execution_count": null,
   "id": "18b5a5fe",
   "metadata": {},
   "outputs": [],
   "source": [
    "import numpy as np\n",
    "# Log-transforming the target\n",
    "data['ELE_TOTAL_ENERGY_FLUX_LOG'] = data['ELE_TOTAL_ENERGY_FLUX'].apply(lambda x: np.log(x))\n",
    "# Dropping the original target\n",
    "data.drop(['ELE_TOTAL_ENERGY_FLUX'], axis = 1, inplace = True)"
   ]
  },
  {
   "cell_type": "code",
   "execution_count": null,
   "id": "a23fac10",
   "metadata": {},
   "outputs": [],
   "source": [
    "from sklearn.model_selection import train_test_split\n",
    "# Train-test split\n",
    "X = data.drop('ELE_TOTAL_ENERGY_FLUX_LOG', axis = 1) # Independent variables\n",
    "y = data['ELE_TOTAL_ENERGY_FLUX_LOG'] # Target variable (log-transformed)\n",
    "X_train, X_test, y_train, y_test = train_test_split(X, y, test_size = 0.2, shuffle = True)\n",
    "\n",
    "# Resetting index\n",
    "X_train.reset_index(drop = True, inplace = True)\n",
    "X_test.reset_index(drop = True, inplace = True)\n",
    "y_train.reset_index(drop = True, inplace = True)\n",
    "y_test.reset_index(drop = True, inplace = True)"
   ]
  },
  {
   "cell_type": "code",
   "execution_count": null,
   "id": "62419469",
   "metadata": {},
   "outputs": [],
   "source": [
    "# Min-max normalization of predictors in the training set\n",
    "for col in X_train.columns:\n",
    "    if X_train[col].dtypes == 'int64' or X_train[col].dtypes == 'float64': # Checking if the column is numerical\n",
    "        if X_train[col].nunique() > 1: # Checking if the column is non-constant\n",
    "            X_train = X_train.apply(lambda iterator: ((iterator.max() - iterator)/(iterator.max() - iterator.min())).round(2))\n",
    "            #X_train[col] = (X_train[col] - X_train[col].min()) / (X_train[col].max() - X_train[col].min())"
   ]
  },
  {
   "cell_type": "code",
   "execution_count": null,
   "id": "9d7a4ab4",
   "metadata": {},
   "outputs": [],
   "source": [
    "result.head()"
   ]
  },
  {
   "cell_type": "code",
   "execution_count": null,
   "id": "aae792d9",
   "metadata": {},
   "outputs": [],
   "source": [
    "# Min-max normalization of predictors in the test set\n",
    "for col in X_test.columns:\n",
    "    if X_test[col].dtypes == 'int64' or X_test[col].dtypes == 'float64': # Checking if the column is numerical\n",
    "        if X_test[col].nunique() > 1: # Checking if the column is non-constant\n",
    "            X_test = X_test.apply(lambda iterator: ((iterator.max() - iterator)/(iterator.max() - iterator.min())).round(2)) \n",
    "            #X_test[col] = (X_test[col] - X_test[col].min()) / (X_test[col].max() - X_test[col].min())"
   ]
  },
  {
   "cell_type": "code",
   "execution_count": null,
   "id": "e7946f54",
   "metadata": {},
   "outputs": [],
   "source": [
    "from sklearn.decomposition import PCA\n",
    "# PCA-fitting the training set\n",
    "pca = PCA(n_components = 20)\n",
    "pca.fit(X_train_norm)\n",
    "\n",
    "# PCA summary\n",
    "print(pd.Series({\"Number of components\": \"{}\".format(pca.n_components_),\n",
    "                 \"Explained variance ratio\": \"{:.4g}%\".format(pca.explained_variance_ratio_.sum()*100)\n",
    "                }).to_string())"
   ]
  },
  {
   "cell_type": "code",
   "execution_count": null,
   "id": "30f8f9b8",
   "metadata": {},
   "outputs": [],
   "source": [
    "# Adding layers to sequential model\n",
    "model = Sequential()\n",
    "model.add(Dense(units = 128, input_dim = len(X_train.columns), activation = 'relu'))\n",
    "model.add(Dense(units = 64, activation = 'relu'))\n",
    "model.add(Dense(units = 32, activation = 'relu'))\n",
    "model.add(Dense(units = 16, activation = 'relu'))\n",
    "model.add(Dense(units = 4, activation = 'relu'))\n",
    "model.add(Dense(units = 1, activation = 'linear'))\n",
    "model.summary()"
   ]
  },
  {
   "cell_type": "code",
   "execution_count": null,
   "id": "91e65667",
   "metadata": {},
   "outputs": [],
   "source": [
    "# Specifying loss function and optimizer\n",
    "adam_opt = Adam(learning_rate = 0.001, beta_1 = 0.9, beta_2 = 0.999, epsilon = 1e-07, amsgrad = False)\n",
    "sgd_opt = SGD(learning_rate = 0.01, momentum = 0.9, nesterov = False)\n",
    "model.compile(loss = 'mean_squared_error', optimizer = adam_opt)"
   ]
  },
  {
   "cell_type": "code",
   "execution_count": null,
   "id": "d523d865",
   "metadata": {},
   "outputs": [],
   "source": [
    "history = model.fit(X_train, y_train, epochs = 120, batch_size = 32, validation_split = 0.2)"
   ]
  }
 ],
 "metadata": {
  "kernelspec": {
   "display_name": "Python 3 (ipykernel)",
   "language": "python",
   "name": "python3"
  },
  "language_info": {
   "codemirror_mode": {
    "name": "ipython",
    "version": 3
   },
   "file_extension": ".py",
   "mimetype": "text/x-python",
   "name": "python",
   "nbconvert_exporter": "python",
   "pygments_lexer": "ipython3",
   "version": "3.9.7"
  }
 },
 "nbformat": 4,
 "nbformat_minor": 5
}
