{
 "cells": [
  {
   "cell_type": "code",
   "execution_count": null,
   "id": "5d95a0a0",
   "metadata": {},
   "outputs": [],
   "source": [
    "import pandas as pd\n",
    "df = pd.read_csv(\"higgs.csv\")\n",
    "df.shape"
   ]
  },
  {
   "cell_type": "code",
   "execution_count": null,
   "id": "605d4c3f",
   "metadata": {},
   "outputs": [],
   "source": [
    "df.head(5).transpose()"
   ]
  },
  {
   "cell_type": "code",
   "execution_count": null,
   "id": "bb04180b",
   "metadata": {},
   "outputs": [],
   "source": [
    "print(df['Label'].value_counts())"
   ]
  },
  {
   "cell_type": "code",
   "execution_count": null,
   "id": "c1c9c47f",
   "metadata": {},
   "outputs": [],
   "source": [
    "from sklearn.preprocessing import LabelEncoder\n",
    "enc = LabelEncoder()\n",
    "df['Label'] = enc.fit_transform(df['Label'])\n",
    "print(df['Label'].value_counts())"
   ]
  },
  {
   "cell_type": "code",
   "execution_count": null,
   "id": "2c32f41d",
   "metadata": {},
   "outputs": [],
   "source": [
    "y = df[\"Label\"]\n",
    "X = df.drop(['Label'], axis=1)\n",
    "X = X.drop(['Weight'], axis=1)\n",
    "X.set_index(['EventId'],inplace = True)\n",
    "X.shape"
   ]
  },
  {
   "cell_type": "code",
   "execution_count": null,
   "id": "e35d88b4",
   "metadata": {},
   "outputs": [],
   "source": [
    "from sklearn.preprocessing import normalize\n",
    "X = normalize(X)"
   ]
  },
  {
   "cell_type": "code",
   "execution_count": null,
   "id": "e095b2bf",
   "metadata": {},
   "outputs": [],
   "source": [
    "from sklearn.model_selection import StratifiedKFold\n",
    "from tensorflow.keras.models import Sequential\n",
    "from tensorflow.keras.layers import Dropout, Dense\n",
    "\n",
    "from keras.optimizers import Adam\n",
    "\n",
    "BATCH_SIZE = 8\n",
    "n_fold = 5\n",
    "\n",
    "kfold = StratifiedKFold(n_splits=n_fold, shuffle=True, random_state=42)\n",
    "cvscores = []  \n",
    "\n",
    "for train, test in kfold.split(X, y): \n",
    "    # create model \n",
    "    model = Sequential() \n",
    "    model.add(Dense(1024, input_dim=30, activation='relu'))  # input data has 30 features\n",
    "    model.add(Dropout(0.8)) \n",
    "    model.add(Dense(1024, activation='relu')) \n",
    "    model.add(Dropout(0.8)) \n",
    "    model.add(Dense(512, activation='relu')) \n",
    "    model.add(Dropout(0.8)) \n",
    "    model.add(Dense(1,activation='softmax'))\n",
    "    \n",
    "    # Compile model\n",
    "    opt = Adam(learning_rate=0.0001, beta_1=0.9, beta_2=0.999, decay=0.01, amsgrad=False)\n",
    "    model.compile(loss='binary_crossentropy', optimizer=opt, metrics=['accuracy'])\n",
    "    \n",
    "    # Fit the model\n",
    "    history = model.fit(X[train], y[train],validation_data=(X[train], y[train]), epochs=1, batch_size=BATCH_SIZE, verbose=0)\n",
    "    \n",
    "    # evaluate the model\n",
    "    #scores = model.evaluate(X[test], y[test], verbose=0)\n",
    "    #print(\"%s: %.2f%%\" % (model.metrics_names[1], scores[1]*100))\n",
    "    #cvscores.append(scores[1] * 100) \n",
    "      \n",
    "    #prediction     \n",
    "    #prediction = model.predict(X_test, batch_size=BATCH_SIZE, verbose=0)   \n",
    "    \n",
    "#print(\"%.2f%% (+/- %.2f%%)\" % (np.mean(cvscores), np.std(cvscores))) \n"
   ]
  },
  {
   "cell_type": "code",
   "execution_count": null,
   "id": "874b1907",
   "metadata": {},
   "outputs": [],
   "source": []
  }
 ],
 "metadata": {
  "kernelspec": {
   "display_name": "Python 3 (ipykernel)",
   "language": "python",
   "name": "python3"
  },
  "language_info": {
   "codemirror_mode": {
    "name": "ipython",
    "version": 3
   },
   "file_extension": ".py",
   "mimetype": "text/x-python",
   "name": "python",
   "nbconvert_exporter": "python",
   "pygments_lexer": "ipython3",
   "version": "3.9.7"
  }
 },
 "nbformat": 4,
 "nbformat_minor": 5
}
